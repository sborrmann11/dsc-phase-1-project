{
 "cells": [
  {
   "cell_type": "markdown",
   "id": "3521560c",
   "metadata": {},
   "source": [
    "![microsoft logo](images/microsoft-logo.png)"
   ]
  },
  {
   "cell_type": "markdown",
   "id": "44c60977",
   "metadata": {},
   "source": [
    "# Overview\n",
    "\n",
    "This project analyzes several widely available movie ratings sources to evaluate why types of movies perform best at the box office. Descriptibe analysis finds that movies that are rated highly tend to bring tend to bring in more dollars. It also shows that there are several key genres and languages that have higher average ratings. The newly created Microsoft Movie production team can use this analysis to as a resource to make decisions on what types of movies they should produce. "
   ]
  },
  {
   "cell_type": "markdown",
   "id": "a9947519",
   "metadata": {},
   "source": [
    "# Business Problem\n",
    "\n",
    "Microsoft has never produced movies before and needs some advice on what types of movies produce better results at the box office. "
   ]
  },
  {
   "cell_type": "markdown",
   "id": "fffafb00",
   "metadata": {},
   "source": [
    "# Data\n",
    "\n",
    "- Explored 11 datasets gathered from 5 different sources.\n",
    "- In order to easily use movie data that included ratings, we first need to see if higher movie ratings yield better box office results, resulting in a better payout for the Microsoft team.   \n",
    "- Additionally, we’ll only use data from movies that were released in the last 10 years as we want an up to date view on what audiences are interested in.\n"
   ]
  },
  {
   "cell_type": "markdown",
   "id": "7e6e26d2",
   "metadata": {},
   "source": [
    "# Results\n",
    "\n",
    "Data combined from two different sources via the Rotten Tomatoes database shows that on average, movies that have higher ratings will earn more at the box office. \n",
    "\n"
   ]
  },
  {
   "cell_type": "markdown",
   "id": "44020dd8",
   "metadata": {},
   "source": [
    "![Average Box office dollars](images/avvboxoffice2.png\n",
    ")"
   ]
  },
  {
   "cell_type": "markdown",
   "id": "5cfeafd6",
   "metadata": {},
   "source": [
    "Now that we understand that higher ratings yield better box office results, we find that that the the top four genres with the highest average ratings are Biography, Documentary, History and Music. "
   ]
  },
  {
   "cell_type": "markdown",
   "id": "0f10e51f",
   "metadata": {},
   "source": [
    "![Average Box office dollars](images/genres_rotated.png)"
   ]
  },
  {
   "cell_type": "markdown",
   "id": "dd5a335b",
   "metadata": {},
   "source": [
    "Finally, data pulled from The Movie Database finds that there are original language movies that recieve higher average ratings. While this should be investigated further, it's advisable that Microsoft does not being by producing movies in Russian Language. "
   ]
  },
  {
   "cell_type": "markdown",
   "id": "f8fec9c1",
   "metadata": {},
   "source": [
    "![Average Box office dollars](images/languages.png\n",
    ")"
   ]
  },
  {
   "cell_type": "markdown",
   "id": "0fd2d414",
   "metadata": {},
   "source": [
    "# Conclusions\n",
    "\n",
    " - Ensure that all movies that are produced are listed on highly used ratings websites like IMDB and Rotten Tomatoes so that potential viewers can both read and write reviews\n",
    " - Consider running campaigns to get more viewers to leave reviews\n",
    " - Start by producing movies that fall into the four highly rated genres surfaced in this report\n",
    " - Microsoft should avoid producing movies in Russian while ramping up the production company\n",
    "\n"
   ]
  },
  {
   "cell_type": "markdown",
   "id": "23f542b2",
   "metadata": {},
   "source": [
    "# Next Steps\n",
    "\n",
    " - Dive deeper into movies that are produced in Japanese; why have they generated such high ratings?\n",
    " - Explore data to surface experts that have produced highly rated movies in key highly rated genres and bring them in to your network. Working with experts should yield more press, better movies and thusly, higher revenues\n",
    " - Consider allocating budget from other business units to engage with a consulting company to advise in the process of setting up a production company\n",
    "\n"
   ]
  }
 ],
 "metadata": {
  "kernelspec": {
   "display_name": "Python 3",
   "language": "python",
   "name": "python3"
  },
  "language_info": {
   "codemirror_mode": {
    "name": "ipython",
    "version": 3
   },
   "file_extension": ".py",
   "mimetype": "text/x-python",
   "name": "python",
   "nbconvert_exporter": "python",
   "pygments_lexer": "ipython3",
   "version": "3.8.8"
  },
  "toc": {
   "base_numbering": 1,
   "nav_menu": {},
   "number_sections": true,
   "sideBar": true,
   "skip_h1_title": false,
   "title_cell": "Table of Contents",
   "title_sidebar": "Contents",
   "toc_cell": false,
   "toc_position": {},
   "toc_section_display": true,
   "toc_window_display": false
  }
 },
 "nbformat": 4,
 "nbformat_minor": 5
}
